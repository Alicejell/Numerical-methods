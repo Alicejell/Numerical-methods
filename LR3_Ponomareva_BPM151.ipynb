{
 "cells": [
  {
   "cell_type": "markdown",
   "metadata": {},
   "source": [
    "# Лабораторная работа №3 (Пономарева А.Ю., группа БПМ-151) Решение нелинейных уравнений.\n",
    "### № 3.1\n",
    "Дана система уравнений $Ax = b$ порядка $n$. Исследовать зависимость погрешности решения $x$ от\n",
    "погрешностей правой части системы $b$.\n",
    "Компоненты вектора $b$ во всех вариантах задаются формулой $b_i = N\\;\\forall\\;i = 1...n$, <br/> \n",
    "коэффициенты $c = c_{ij} = 0.1\\cdot N \\cdot i \\cdot j\\;\\;\\forall\\;\\;i,\\;j = 1...n$, <br/>\n",
    "$N = 23\\;- $ номер варианта.<br/>\n",
    "$n = 5$ <br/>\n",
    "$a_{ij} = \\frac{11.7}{(1+c)^7}$\n",
    "\n",
    "### Теоретическая часть.\n",
    "#### Реализация метода Гаусса.\n",
    "Есть система линейных уравнений $Ax=b$. \n",
    "\n",
    "1). Прямой ход. Матрица $A$ приводится к верхней треугольной матрице. Первую строку вычитают из остальных строк, домножив её на величину, равную отношению первого элемента каждой из этих строк к первому элементу первой строки , обнуляя тем самым столбец под ним. Потом вычитают вторую строку из последующих строк, умноженную на отношение второго элемента (первый элемент уже занулился) каждой из этих строк ко второму элементу (первый элемент уже занулился) второй строки, обнуляя столбец под элементом с индексами $(2,2)$. И так далее, пока матрица не станет ступенчатой.\n",
    "\n",
    "2). Обратный ход.Суть заключается в выражении всех базисных элементов через небазисные. Этот этап начинается с последнего уравнения, в котором один базисный элемент. Подставляем его в предыдущие уравнения и поднимаемся постепенно на \"ступеньку\" вверх, находя поочерёдно все базисные элементы и подставляя их в уравнения выше.\n",
    "\n",
    "Число обусловленности матрицы $A$ определяется по формуле: $\\mu(A)=||A||*||A^{-1}||$. Под обусловленностью численной задачи понимают чувствительность её решения к погрешностям входных данных.\n",
    "\n",
    "Норма матрицы в $R^m: ||A||_\\infty =max \\sum^m_{j=1}|a_{ij}|,  1<=i<=m$\n",
    "\n",
    "Оценка погрешности решения: $\n",
    "\\delta(\\vec x^*)<=cond(A)*\\delta(A^*)$;\n",
    "$\n",
    "\\delta(\\vec x^*)<=cond(A)*\\delta(\\vec b^*)\n",
    "$, где $\\delta(A^*)=||A-A^*||/||A||$ и $\\delta(\\vec b^*)=||\\vec b-\\vec b^*||/||\\vec b||$.\n",
    "\n",
    "### Практическая часть."
   ]
  },
  {
   "cell_type": "code",
   "execution_count": 11,
   "metadata": {},
   "outputs": [],
   "source": [
    "import numpy as np\n",
    "from matplotlib import pyplot as plt\n",
    "\n",
    "%matplotlib inline"
   ]
  },
  {
   "cell_type": "markdown",
   "metadata": {},
   "source": [
    "### 1.Решение системы методом Гаусса и встроенным методом."
   ]
  },
  {
   "cell_type": "code",
   "execution_count": 52,
   "metadata": {},
   "outputs": [],
   "source": [
    "N=23 #номер варианта\n",
    "n = 5\n",
    "def a(i,j): # функция, задающая элементы матрицы А\n",
    "    c = 0.1*i*j*N\n",
    "    return 11.7/(1+c)**7\n",
    "\n",
    "def Gauss(A,b): #функция метода Гаусса \n",
    "    AA=np.hstack((A,b))# соединяем матрицы A и b по горизонтали\n",
    "    for j in range(AA.shape[0]-1): # проходим по всем строкам\n",
    "        for i in range(1+j,AA.shape[1]-1): # проходим по всем столбцам\n",
    "            m=AA[i,j]/AA[j,j]\n",
    "            AA[i]=AA[i]-m*AA[j]#последовательно вычитаем из i-ых строк j-ую строку, умноженную на m\n",
    "    # в итоге получаем верхнеугольную матрицу \n",
    "    X,ax=[[]for i in range(AA.shape[0])],0   \n",
    "    for k in range(AA.shape[0]-1,-1,-1):# начинаем делать обратный ход\n",
    "        if k == AA.shape[0]-1:\n",
    "            X[k].append(AA[k,k+1]/AA[k,k])#вычислили первый элемент нашего ответа(последний по счету)\n",
    "        else: #далее вычисляем все элементы нашего ответа поочередно, идя от х(n-1) до x(1)\n",
    "            for j in range(AA.shape[0]-1,k,-1):\n",
    "                ax+=AA[k,j]*X[j][0]\n",
    "            X[k].append((AA[k,AA.shape[1]-1]-ax)/AA[k,k])\n",
    "            ax=0\n",
    "    return np.array(X) #возвращаем массив нашего ответа\n",
    "\n",
    "A = np.array([[a(i,j) for j in range(1,n+1)]for i in range(1,n+1)])\n",
    "b = np.array([[N]for i in range(n)])"
   ]
  },
  {
   "cell_type": "code",
   "execution_count": 53,
   "metadata": {},
   "outputs": [],
   "source": [
    "ans=Gauss(A,b)"
   ]
  },
  {
   "cell_type": "code",
   "execution_count": 54,
   "metadata": {},
   "outputs": [
    {
     "data": {
      "text/plain": [
       "array([[ 7.87520182e+10],\n",
       "       [-1.27712694e+14],\n",
       "       [ 7.84563028e+15],\n",
       "       [-7.76584134e+16],\n",
       "       [ 1.61942733e+17]])"
      ]
     },
     "execution_count": 54,
     "metadata": {},
     "output_type": "execute_result"
    }
   ],
   "source": [
    "ans  #ответ"
   ]
  },
  {
   "cell_type": "code",
   "execution_count": 55,
   "metadata": {},
   "outputs": [
    {
     "data": {
      "text/plain": [
       "array([[ 7.87520182e+10],\n",
       "       [-1.27712694e+14],\n",
       "       [ 7.84563028e+15],\n",
       "       [-7.76584134e+16],\n",
       "       [ 1.61942733e+17]])"
      ]
     },
     "execution_count": 55,
     "metadata": {},
     "output_type": "execute_result"
    }
   ],
   "source": [
    "np.linalg.solve(A,b) #проверка встроенной функцией"
   ]
  },
  {
   "cell_type": "markdown",
   "metadata": {},
   "source": [
    "### 2.Поиск числа обусловленности матрицы А.\n",
    "\n",
    "С помощью встроенной функции вычислить число обусловленности матрицы  $A$."
   ]
  },
  {
   "cell_type": "code",
   "execution_count": 56,
   "metadata": {},
   "outputs": [
    {
     "data": {
      "text/plain": [
       "41888683208666.88"
      ]
     },
     "execution_count": 56,
     "metadata": {},
     "output_type": "execute_result"
    }
   ],
   "source": [
    "cond=np.linalg.cond(A)#число обусловенности (плохо обусловленна, так как намного больше 1)\n",
    "cond"
   ]
  },
  {
   "cell_type": "markdown",
   "metadata": {},
   "source": [
    "### 3.Вычисление относительных погрешностей.\n",
    "\n",
    "3. Принимая решение $x$, полученное в п. 1, за точное, вычислить вектор $d=(d_1,\\dots,d_n)^T$, $d_i=\\frac{||x-x^i||_\\infty}{||x||_\\infty}$, $i=1,\\dots,n$, относительных погрешностей решений $x^i$ систем $Ax^i=b^i$, $i=1,\\dots,n$, где  компоненты векторов $b^i$ вычисляются по формулам: $ b_k^i=\n",
    "    \\begin{cases} \n",
    "      b_k+\\Delta, \\ k=i \\\\\n",
    "      b_k, \\ k\\neq i \n",
    "   \\end{cases}\n",
    "$, $k=1,\\dots,n; \\ \\ (\\Delta$ - произвольная величина погрешности)."
   ]
  },
  {
   "cell_type": "code",
   "execution_count": 57,
   "metadata": {},
   "outputs": [],
   "source": [
    "delta=10**(-3)#произвольная величина погрешности\n",
    "d=[[]for i in range(A.shape[0])]\n",
    "def di(a): #функция вычисления компонентов вектора относительных погрешностей\n",
    "    c=ans-a\n",
    "    c=c.max()\n",
    "    r=ans.max()\n",
    "    return c/r\n",
    "def bik(i): #функция вычисления компонентов веторов bi\n",
    "    B = [[]for i in range(A.shape[0])]\n",
    "    for k in range(A.shape[0]):\n",
    "        if k==i:\n",
    "            B[k].append(b[k][0]+delta)\n",
    "        else:\n",
    "            B[k].append(b[k][0])\n",
    "    return np.array(B)\n",
    "\n",
    "for j in range(A.shape[0]):#вычисляем для каждого вектора bi \n",
    "    B=bik(j)\n",
    "    xj=Gauss(A,B)#вычисляем для каждого вектора bi свой ответ xj\n",
    "    d[j].append(di(xj)) #обрабатываем его и добавляем в вектор относительных погрешностей "
   ]
  },
  {
   "cell_type": "code",
   "execution_count": 58,
   "metadata": {},
   "outputs": [
    {
     "data": {
      "text/plain": [
       "array([[1.66653480e-11],\n",
       "       [5.97569007e-08],\n",
       "       [1.75563977e-06],\n",
       "       [3.66129297e-05],\n",
       "       [3.66129297e-05]])"
      ]
     },
     "execution_count": 58,
     "metadata": {},
     "output_type": "execute_result"
    }
   ],
   "source": [
    "Vd=np.array(d) #вектор относительных погрешностей \n",
    "Vd"
   ]
  },
  {
   "cell_type": "markdown",
   "metadata": {},
   "source": [
    "### 4. Построение гистограммы.\n",
    "\n",
    "На основе вычисленного вектора $d$ построить гистограмму. По гистограмме определить компоненту $b_m$ вектора $b$, которая оказывает наибольшее влияние на погрешность решения."
   ]
  },
  {
   "cell_type": "code",
   "execution_count": 68,
   "metadata": {},
   "outputs": [
    {
     "data": {
      "image/png": "[encoded data removed]",
      "text/plain": [
       "<matplotlib.figure.Figure at 0x9fc5be0>"
      ]
     },
     "metadata": {},
     "output_type": "display_data"
    }
   ],
   "source": [
    "data_names = [str(i) for i in range(1,A.shape[0]+1)]#записываем \n",
    "data_values = [Vd[i][0] for i in range(A.shape[0])]     #данные\n",
    "plt.figure(figsize=(8, 6))\n",
    "plt.title('Значения компонентов вектора относительных погрешностей')\n",
    "xs = range(len(data_names))\n",
    "plt.bar([x for x in xs], [ d for d in data_values], color = 'red')\n",
    "plt.show()\n",
    "#Наибольшее влияние на погрешность оказывает 4-ая и 5-ая компонента вектора b"
   ]
  },
  {
   "cell_type": "markdown",
   "metadata": {},
   "source": [
    "### 5.Теоретическая оценка погрешности.\n",
    "\n",
    "Оценить теоретически погрешность решения $x^m$ по  формуле: $\\delta(x^m)\\leq cond(A)\\cdot\\delta(b^m)$. Сравнить значение $\\delta(x^m)$ со значением практической погрешности $d_m$. Объяснить полученные результаты."
   ]
  },
  {
   "cell_type": "code",
   "execution_count": 60,
   "metadata": {},
   "outputs": [
    {
     "name": "stdout",
     "output_type": "stream",
     "text": [
      "d(x*) <= 1821247096.028995\n",
      "[[False]\n",
      " [False]\n",
      " [False]\n",
      " [False]\n",
      " [False]]\n"
     ]
    }
   ],
   "source": [
    "delta_x=cond*delta/N #число обусловленности матрицы умножаем на\n",
    "#произвольную дельта из #3 и делим на номер варианта \n",
    "print('d(x*) <= '+str(delta_x)) \n",
    "print(delta_x<Vd)# сравниваем -> практическая погрешность меньше теоретической"
   ]
  },
  {
   "cell_type": "code",
   "execution_count": null,
   "metadata": {},
   "outputs": [],
   "source": []
  },
  {
   "cell_type": "code",
   "execution_count": null,
   "metadata": {},
   "outputs": [],
   "source": []
  }
 ],
 "metadata": {
  "kernelspec": {
   "display_name": "Python 3",
   "language": "python",
   "name": "python3"
  },
  "language_info": {
   "codemirror_mode": {
    "name": "ipython",
    "version": 3
   },
   "file_extension": ".py",
   "mimetype": "text/x-python",
   "name": "python",
   "nbconvert_exporter": "python",
   "pygments_lexer": "ipython3",
   "version": "3.6.4"
  }
 },
 "nbformat": 4,
 "nbformat_minor": 2
}
