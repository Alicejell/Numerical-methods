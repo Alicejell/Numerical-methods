{
 "cells": [
  {
   "cell_type": "markdown",
   "metadata": {},
   "source": [
    "# Лабораторная работа №4 (Пономарева А.Ю., группа БПМ-151)"
   ]
  },
  {
   "cell_type": "markdown",
   "metadata": {},
   "source": [
    "### Вариант 23"
   ]
  },
  {
   "cell_type": "markdown",
   "metadata": {},
   "source": [
    "Найти с точностью $\\varepsilon = 10^{-6}$ все корни системы нелинейных уравнений <br/>\n",
    "$\\begin{equation}\n",
    "\\begin{cases}\n",
    "f_1(x_1,x_2) = 0 \n",
    "\\\\\n",
    "f_2(x_1,x_2) = 0\n",
    "\\end{cases}\n",
    "\\end{equation}$ <br/>\n",
    "используя метод Ньютона для системы нелинейных уравнений. <br/> Найти корни с помощью встроенного блока решения уравнений *numpy*."
   ]
  },
  {
   "cell_type": "markdown",
   "metadata": {},
   "source": [
    "## Метод Ньютона для решения систем нелинейных уравнений\n",
    "\n",
    "### Теория\n",
    "\n",
    "Предположим, что исходя из начального приближения $x^{(0)}$ к решению $\\bar{x}$ построены приближения $x^{(1)}, x^{(2)}, \\ldots, x^{(n)}$. Заменим в системе\n",
    "\n",
    "$\\begin{equation*}\n",
    "\\begin{cases}\n",
    "f_1(x_1, x_2, \\ldots, x_m) = 0,\\\\\n",
    "f_2(x_1, x_2, \\ldots, x_m) = 0,\\\\\n",
    "\\ldots \\ldots \\ldots \\ldots \\ldots \\ldots \\ldots \\ldots \\qquad \\qquad \\qquad \\qquad (1)\\\\\n",
    "f_m(x_1, x_2, \\ldots, x_m) = 0.\\\\\n",
    "\\end{cases}\n",
    "\\end{equation*}$\n",
    "\n",
    "каждую из функций $f_i \\quad  (i = 1, 2, \\ldots, m)$ главной линейной частью её разложения по формуле Тейлора в точке $x^{(n)}$:\n",
    "\n",
    "$f_i(x) \\approx f_i(x^{(n)})+\\sum\\limits_{j=1}^{m} \\cfrac{\\partial f_i(x^{(n)})}{\\partial x_j} (x_j-x_j^{(n)}).$\n",
    "\n",
    "В результате придем к системе линейных алгебраических уравнений:\n",
    "\n",
    "$f_1(x^{(n)})+\\sum\\limits_{j=1}^{m} \\cfrac{\\partial f_1(x^{(n)})}{\\partial x_j} (x_j-x_j^{(n)}) = 0,$\n",
    "\n",
    "$f_2(x^{(n)})+\\sum\\limits_{j=1}^{m} \\cfrac{\\partial f_2(x^{(n)})}{\\partial x_j} (x_j-x_j^{(n)}) = 0,$\n",
    "\n",
    "$\\ldots \\ldots \\ldots \\ldots \\ldots \\ldots \\ldots \\ldots \\ldots \\ldots \\ldots \\ldots$\n",
    "\n",
    "$f_m(x^{(n)})+\\sum\\limits_{j=1}^{m} \\cfrac{\\partial f_m(x^{(n)})}{\\partial x_j} (x_j-x_j^{(n)}) = 0,$\n",
    "\n",
    "имеющей в матричной форме записи следующий вид:\n",
    "\n",
    "$$f(x^{(n)})+f^\\prime(x^{(n)})(x-x^{(n)})=0; \\qquad (2)$$\n",
    "\n",
    "здесь $f^\\prime$ - матрица Якоби:\n",
    "\n",
    "$f^\\prime(x) = \\begin{pmatrix}\n",
    "{\\partial f_1 (x) \\over \\partial x_1} & {\\partial f_1 (x) \\over \\partial x_2} & \\cdots & {\\partial f_1 (x) \\over \\partial x_n} \\\\\n",
    "{\\partial f_2 (x) \\over \\partial x_1} & {\\partial f_2 (x) \\over \\partial x_2} & \\cdots & {\\partial f_2 (x) \\over \\partial x_n} \\\\\n",
    "\\cdots & \\cdots & \\cdots &\\cdots \\\\\n",
    "{\\partial f_m (x) \\over \\partial x_1} & {\\partial f_m (x) \\over \\partial x_2} & \\cdots & {\\partial f_m (x) \\over \\partial x_n}\n",
    "\\end{pmatrix}.$\n",
    "\n",
    "Предположим, что матрица $f^\\prime(x^{(n)})$ невырожденная, т.е. существует обратная матрица $(f^\\prime(x^{(n)}))^{-1}$. Тогда система $(2)$ имеет единственное решение, которое и принимется за очередное приближение $x^{(n+1)}$ к решению $\\bar{x}$.Таким образом, приближение $x^{(n+1)}$ удовлетворяет равенству\n",
    "\n",
    "$f(x^{(n)})+f^\\prime(x^{(n)})(x^{(n+1)}-x^{(n)})=0, \\qquad (3)$\n",
    "\n",
    "выражая из которого $x^{(n+1)}$, выводим итерационную формулу  метода Ньютона:\n",
    "\n",
    "$x^{(n+1)} = x^{(n)}-(f^\\prime(x^{(n)}))^{-1} f(x^{(n)}).$\n",
    "\n",
    "#### Замечание.\n",
    "\n",
    "Последняя формула предполагает использование трудоемкой операции обращения матрицы, поэтому непосредственное её использование для вычисления $x^{(n+1)}$ в большинстве случаев нецелесообразно. Обычно вместо этого решают эквивалентую системе (3) систему линейных алгебраических уравнений:\n",
    "\n",
    "$f^\\prime(x^{(n)}) \\Delta x^{(n+1)} = - f(x^{(n)})$\n",
    "\n",
    "относительно поправки $\\Delta x^{(n+1)} = x^{(n+1)} - x^{(n)}$. Затем полагают\n",
    "\n",
    "$x^{(n+1)} = x^{(n)} + \\Delta x^{(n+1)}.$\n",
    "\n",
    "\n",
    "### Сходимость метода\n",
    "\n",
    "#### Основная теорема о сходимости метода Ньютона\n",
    "\n",
    "Пусть в некоторой окрестности $\\bar{x}$ системы $(1)$ функции $f_i \\quad (i = 1, 2, \\ldots, m)$ дважды непрерывно дифференцируемы и матрица $f^\\prime(\\bar{x})$ невырождена. Тогда найдется такая маоая $\\delta$-окрестность решения $\\bar{x}$, что при произвольном выборе начального приближения $x^{(0)}$ из этой окрестности итерационная последовательность метода Ньютона не выходит за пределы оксретности и справедлива оценка:\n",
    "\n",
    "$\\Vert x^{(n+1)} - \\bar{x} \\Vert \\le \\cfrac{1}{\\delta} \\Vert x^{(n)} - \\bar{x}\\Vert^2, n \\ge 0.$\n",
    "\n",
    "Эта оценка означает, что метод сходится с квадратичной скоростью.\n",
    "\n",
    "Квадратичная скорость сходимости метода Ньютона позволяет использовать простой практический критерий окончания итераций\n",
    "\n",
    "$\\Vert x^{(n)} - x^{(n-1)}\\Vert < \\varepsilon.$"
   ]
  },
  {
   "cell_type": "code",
   "execution_count": 2,
   "metadata": {},
   "outputs": [],
   "source": [
    "import numpy as np\n",
    "import matplotlib.pyplot as plt\n",
    "%matplotlib inline \n",
    "\n",
    "from scipy.optimize import fsolve\n",
    "from scipy.misc import derivative\n",
    "from numpy import linalg as lnl"
   ]
  },
  {
   "cell_type": "markdown",
   "metadata": {},
   "source": [
    "$\\begin{equation}\n",
    "\\begin{cases}\n",
    "\\tan(x_1 x_2+0.2)-x_{1}^{2}=0\n",
    "\\\\\n",
    "0.6 x_{1}^{2}+2x_{2}^{2}-1=0\n",
    "\\end{cases}\n",
    "\\end{equation}$"
   ]
  },
  {
   "cell_type": "code",
   "execution_count": 3,
   "metadata": {},
   "outputs": [],
   "source": [
    "def eqs(x):\n",
    "    x1, x2 = x[0], x[1]\n",
    "    return np.array([np.tan(x1*x2+0.2)-x1**2, 0.6*x1**2+2*x2**2-1])"
   ]
  },
  {
   "cell_type": "markdown",
   "metadata": {},
   "source": [
    "#### Локализуем корни системы уравнений\n",
    "Приведём уравнения к виду: <br/>\n",
    "$\\begin{equation}\n",
    "\\begin{cases}\n",
    "x_2 = \\frac{\\arctan{x_{1}^{2}-0.2}}{x_1}\n",
    "\\\\ \n",
    "x_2 = \\sqrt{\\frac{1-0.6x_{1}^{2}}{2}}\n",
    "\\end{cases}\n",
    "\\end{equation}$\n",
    "и изобразим графически."
   ]
  },
  {
   "cell_type": "code",
   "execution_count": 4,
   "metadata": {},
   "outputs": [],
   "source": [
    "def g1(x1):\n",
    "    return (np.arctan(x1**2)-0.2)/x1 \n",
    "def g2(x1):\n",
    "    return np.sqrt((1-0.6*x1**2)/2)"
   ]
  },
  {
   "cell_type": "code",
   "execution_count": 33,
   "metadata": {},
   "outputs": [
    {
     "data": {
      "image/png": "[encoded data removed]",
      "text/plain": [
       "<matplotlib.figure.Figure at 0xa3f28d0>"
      ]
     },
     "metadata": {},
     "output_type": "display_data"
    }
   ],
   "source": [
    "X = np.arange(-np.sqrt(1/2), np.sqrt(1/2), 1e-3)\n",
    "Y1 = g1(X)\n",
    "plt.xlabel('x1')\n",
    "plt.ylabel('x2')\n",
    "plt.plot(X, Y1)\n",
    "Y2 = g2(X)\n",
    "plt.plot(X, Y2)\n",
    "plt.grid(True)\n",
    "plt.axis([-0.6, 0.6, -10,10])\n",
    "plt.show()"
   ]
  },
  {
   "cell_type": "markdown",
   "metadata": {},
   "source": [
    "Видим, что решение системы локализовано в прямоугольнике $[-0.3,-0.1]\\times[0,2]$"
   ]
  },
  {
   "cell_type": "markdown",
   "metadata": {},
   "source": [
    "Определим вспомогательные функции *partial_derivative* и *Jacobian*: нам понадобятся частные производные и якобиан в методе Ньютона."
   ]
  },
  {
   "cell_type": "code",
   "execution_count": 79,
   "metadata": {},
   "outputs": [],
   "source": [
    "def partial_derivative(fun, f_num=0, var=0, point=[]):\n",
    "    args = point[:]\n",
    "    def wraps(x):\n",
    "        args[var] = x \n",
    "        return fun(args)[f_num]\n",
    "    return derivative(wraps, point[var], dx = 1e-6)\n",
    "\n",
    "def Jacobian(f, x, n=2):\n",
    "    jacob = np.zeros((2, 2))\n",
    "    for i in range(n):\n",
    "        for j in range(n):\n",
    "            jacob[i, j] = partial_derivative(f, i, j, x)\n",
    "    return jacob"
   ]
  },
  {
   "cell_type": "code",
   "execution_count": 80,
   "metadata": {},
   "outputs": [],
   "source": [
    "def nonlin_newton(F, J, x, norm, eps):\n",
    "    # F - система уравнений\n",
    "    # J - функция для подсчета якобиана\n",
    "    # x - начальное приближение\n",
    "    # norm - используемый тип нормы\n",
    "    # eps - точность вычислений\n",
    "    count = 0\n",
    "    itp = np.array(x)\n",
    "    while np.abs(lnl.norm(F(x), ord=norm)) >= eps:\n",
    "        delta = lnl.solve(J(F, x), -F(x))\n",
    "        x = x + delta\n",
    "        itp = np.vstack((itp, x))\n",
    "        count += 1 # число итераций\n",
    "    return x, count, itp"
   ]
  },
  {
   "cell_type": "code",
   "execution_count": 81,
   "metadata": {},
   "outputs": [],
   "source": [
    "x_2, n_2, itp_2 = nonlin_newton(eqs, Jacobian, x=[-0.1, 2], norm=2, eps=1e-6)"
   ]
  },
  {
   "cell_type": "code",
   "execution_count": 82,
   "metadata": {},
   "outputs": [
    {
     "name": "stdout",
     "output_type": "stream",
     "text": [
      "2-норма, Корни - [-2.1851808e-01, 6.9690383e-01], Число итераций - 5\n"
     ]
    }
   ],
   "source": [
    "print('2-норма, Корни - [{:.7e}, {:.7e}], Число итераций - {:d}'.format(x_2[0], x_2[1], n_2))"
   ]
  },
  {
   "cell_type": "code",
   "execution_count": 83,
   "metadata": {},
   "outputs": [
    {
     "data": {
      "image/png": "[encoded data removed]",
      "text/plain": [
       "<matplotlib.figure.Figure at 0xa718128>"
      ]
     },
     "metadata": {},
     "output_type": "display_data"
    }
   ],
   "source": [
    "X = np.arange(-np.sqrt(1/2), np.sqrt(1/2), 1e-3)\n",
    "Y1 = g1(X)\n",
    "plt.xlabel('x1')\n",
    "plt.ylabel('x2')\n",
    "plt.plot(X, Y1)\n",
    "plt.scatter(itp_2[:,0], itp_2[:,1], c='r')\n",
    "Y2 = g2(X)\n",
    "plt.plot(X, Y2)\n",
    "plt.grid(True)\n",
    "plt.axis([-0.4, 0.0, -2.6, 2.6])\n",
    "plt.show()"
   ]
  },
  {
   "cell_type": "code",
   "execution_count": 84,
   "metadata": {},
   "outputs": [],
   "source": [
    "x_inf, n_inf, itp_inf = nonlin_newton(eqs, Jacobian, x=[-0.1, 2], norm=np.inf, eps=1e-6)"
   ]
  },
  {
   "cell_type": "code",
   "execution_count": 85,
   "metadata": {},
   "outputs": [
    {
     "name": "stdout",
     "output_type": "stream",
     "text": [
      "inf-норма, Корни - [-2.1851808e-01, 6.9690383e-01], Число итераций - 5\n"
     ]
    }
   ],
   "source": [
    "print('inf-норма, Корни - [{:.7e}, {:.7e}], Число итераций - {:d}'.format(x_inf[0], x_inf[1], n_inf))"
   ]
  },
  {
   "cell_type": "code",
   "execution_count": 86,
   "metadata": {},
   "outputs": [
    {
     "data": {
      "image/png": "[encoded data removed]",
      "text/plain": [
       "<matplotlib.figure.Figure at 0xa50fda0>"
      ]
     },
     "metadata": {},
     "output_type": "display_data"
    }
   ],
   "source": [
    "X = np.arange(-np.sqrt(1/2), np.sqrt(1/2), 1e-3)\n",
    "Y1 = g1(X)\n",
    "plt.xlabel('x1')\n",
    "plt.ylabel('x2')\n",
    "plt.plot(X, Y1)\n",
    "plt.scatter(itp_inf[:,0], itp_inf[:,1], c='r')\n",
    "Y2 = g2(X)\n",
    "plt.plot(X, Y2)\n",
    "plt.grid(True)\n",
    "plt.axis([-0.6, 0.6, -10, 10])\n",
    "plt.show()"
   ]
  },
  {
   "cell_type": "code",
   "execution_count": 87,
   "metadata": {},
   "outputs": [
    {
     "name": "stdout",
     "output_type": "stream",
     "text": [
      "Корни - [-2.1851808e-01, 6.9690383e-01]\n",
      "Норма ошибки с 2-нормой: 2.811879618036528e-10\n",
      "Норма ошибки с inf-нормой: 3.142436693168785e-10\n"
     ]
    }
   ],
   "source": [
    "x, y = fsolve(eqs, [-0.1, 0])\n",
    "\n",
    "print('Корни - [{:.7e}, {:.7e}]'.format(x, y))\n",
    "print('Норма ошибки с 2-нормой:', lnl.norm([x, y] - x_2, ord=np.inf))\n",
    "print('Норма ошибки с inf-нормой:', lnl.norm([x, y] - x_inf, ord=2))"
   ]
  },
  {
   "cell_type": "code",
   "execution_count": null,
   "metadata": {},
   "outputs": [],
   "source": []
  }
 ],
 "metadata": {
  "kernelspec": {
   "display_name": "Python 3",
   "language": "python",
   "name": "python3"
  },
  "language_info": {
   "codemirror_mode": {
    "name": "ipython",
    "version": 3
   },
   "file_extension": ".py",
   "mimetype": "text/x-python",
   "name": "python",
   "nbconvert_exporter": "python",
   "pygments_lexer": "ipython3",
   "version": "3.6.4"
  }
 },
 "nbformat": 4,
 "nbformat_minor": 2
}
