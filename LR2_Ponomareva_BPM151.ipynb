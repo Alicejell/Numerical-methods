{
 "cells": [
  {
   "cell_type": "markdown",
   "metadata": {},
   "source": [
    "# Лабораторная работа №1 (Пономарева А.Ю., группа БПМ-151)"
   ]
  },
  {
   "cell_type": "code",
   "execution_count": 1,
   "metadata": {},
   "outputs": [],
   "source": [
    "import numpy as np\n",
    "import sympy as sym\n",
    "import matplotlib.pyplot as plt\n",
    "from sympy import *\n",
    "\n",
    "%matplotlib inline"
   ]
  },
  {
   "cell_type": "markdown",
   "metadata": {},
   "source": [
    "# Задача 2.1. \n",
    "Даны два уравнения  $f(x)=0$ и $g(x)=0$. Найти с точностью $\\varepsilon=10^{-10}$ все корни уравнений, содержащиеся на отрезке $[a, b]$. Для решения  задачи использовать  метод бисекции."
   ]
  },
  {
   "cell_type": "markdown",
   "metadata": {},
   "source": [
    "<br>\n",
    "$f(x) = (\\lg x)^2-\\lg x -3/4$\n",
    "<br>\n",
    "$g(x) = (\\lg x)^2-3\\lg x +9/4$\n",
    "<br>\n",
    "$[a, b] = [0.1, 35]$"
   ]
  },
  {
   "cell_type": "markdown",
   "metadata": {},
   "source": [
    "# Теория\n",
    "\n",
    "Метод бисекции (или метод деления отрезка пополам) — простейший численный метод для решения нелинейных уравнений вида $f(x)=0.$ Предполагается только непрерывность функции $f(x)$. Поиск основывается на теореме о промежуточных значениях."
   ]
  },
  {
   "cell_type": "markdown",
   "metadata": {},
   "source": [
    "### Описание метода\n",
    "\n",
    "Пусть требуется с заданной точностью $\\varepsilon > 0$ найти корень $\\bar{x}$ уравнения $f(x)=0$. Отрезок локализации $[a, b]$ (т.е. отрезок, содержащий только один корень $\\bar{x}$) будем считать заданным. Предположим, что функция $f$ непрерына на отрезке $[a, b]$ и на его концах принимает значения разных знаков, т.е. $f(a) \\cdot f(b) < 0$.\n",
    "\n",
    "Для дальнейшего будет удобно обозначить отрезок $[a, b]$ через $[a^{(0)}, b^{(0)}]$. Примем за приближенное значение корня середину отрезка - точку $x^{(0)} = \\cfrac{a^{(0)} + b^{(0)}}{2}$. Так как положение корня $\\bar{x}$ на отрезке $[a^{(0)}, b^{(0)}]$ неизвестно, то можно лишь утверждать, что погрешность этого приближения не превышает половины длины отрезка: $\\vert x^{(0)} - \\bar{x}\\vert \\leqslant \\cfrac{b^{(0)}-a^{(0)}}{2}$.\n",
    "\n",
    "Уменьшить погрешность приближения можно, уточнив отрезок локализации, т.е. заменив начальный отрезок $[a^{(0)}, b^{(0)}]$ отрезком $[a^{(1)}, b^{(1)}]$ меньшей длины. Согласно *методу бисекции (половинного деления)* в качестве $[a^{(1)}, b^{(1)}]$ берут тот из отрезков $[a^{(0)}, x^{(0)}]$ и $[x^{(0)}, b^{(0)}]$, на концах которого выполняется условие $f(a^{(1)}) \\cdot f(b^{(1)}) \\leqslant 0$. Этот отрезок содержит искомый корень. Действительно, если $f(a^{(1)}) \\cdot f(b^{(1)}) < 0$, то наличие корня следует из теоремы:\n",
    "\n",
    "#### Пусть функция $f$ непрерывна на отрезке $[a, b]$ и принимает на его концах значения разных знаков, т.е. $f(a) \\cdot f(b) < 0$. Тогда отрезок $[a, b]$ содержит по крайней мере один корень уравнения $f(x)=0$.\n",
    "\n",
    "\n",
    "Если же $f(a^{(1)}) \\cdot f(b^{(1)}) = 0$, то корнем является один из концов отрезка. \n",
    "\n",
    "Середина полученного отрезка $x^{(1)} = \\cfrac{a^{(1)}+b^{(1)}}{2}$ дает теперь приближение к корню, оценка погрешности которого составляет $\\vert x^{(1)} - \\bar{x}\\vert \\leqslant \\cfrac{b^{(1)}-a^{(1)}}{2} = \\cfrac{b-a}{2^2}$.\n",
    "\n",
    "За очередное уточнение отрезка локализации $[a^{(2)}, b^{(2)}]$ снова берут тот из отрезков $[a^{(1)}, x^{(1)}]$, $[x^{(1)}, b^{(1)}]$, на концах которого выполняется условие $f(a^{(2)}) \\cdot f(b^{(2)}) \\leqslant 0$.\n",
    "\n",
    "Опишем очередную $(n+1)$-ю итерацию метода. Пусть отрезок $[a^{(n)}, b^{(n)}]$ уже найден и вычислены значения $x^{(n)}, f(a^{(n)}), f(b^{(n)})$. Тогда производят следующие действия:\n",
    "\n",
    "$1^{\\circ}$. Вычисляют $f(x^{(n)})$.\n",
    "\n",
    "$2^{\\circ}$. Если $f(a^{(n)}) \\cdot f(b^{(n)}) \\leqslant 0$, то в качестве отрезка локализации $[a^{(n+1)}, b^{(n+1)}]$ принимают отрезок $[a^{(n)}, x^{(n)}]$. В противном случае $f(x^{(n)}) \\cdot f(b^{(n)}) < 0$ и за $[a^{(n+1)}, b^{(n+1)}]$ принимают отрезок $[x^{(n)}, b^{(n)}]$.\n",
    "\n",
    "$3^{\\circ}$. Вычисляют $x^{(n+1)} = \\cfrac{a^{(n+1)} + b^{(n+1)}}{2}$.\n",
    "\n",
    "Неограниченное продолжение итерационного процесса дает последовательность отрезков $[a^{(0)}, b^{(0)}]$, $[a^{(1)}, b^{(1)}]$, $\\ldots$, $[a^{(n)}, b^{(n)}]$, $\\ldots$, содержащих искомый корень. Каждый из них (за исключением начального) получен делением пополам предыдущего отрезка."
   ]
  },
  {
   "cell_type": "markdown",
   "metadata": {},
   "source": [
    "### Скорость сходимости\n",
    "\n",
    "Середина $n$-го отрезка - точка $x^{(n)}$ = $\\cfrac{a^{(n)} + b^{(n)}}{2}$ дает приближение к корню $\\bar{x}$, имеющее оценку погрешности $\\vert x^{(n)} - \\bar{x}\\vert \\leqslant \\cfrac{b^{(n)}-a^{(n)}}{2} = \\cfrac{b-a}{2^{n+1}}$.\n",
    "\n",
    "Из этой оценки видно, что метод бисекции сходится со скоростью геометрической прогрессии, заменатель которой $q = \\frac{1}{2}$. По сравнению с другими методами метод бисекции сходится довольно медленно. Однако он достаточно прост и весьма непритязателен; для его применения достаточно, что выполнялось неравенство $f(a) \\cdot f(b) < 0$, функция $f$ была непрерывна и верно определялся ее знак. В тех ситуациях, где не нужна сверхвысокая точность сходимости (а \n",
    "то часто имеет место при простых инженерных расчетах), этот метод весьма привлекателен.\n",
    "\n",
    "Заметим, что число итераций, которое требуется при применении метода бисекции для достижения разумной точности $\\varepsilon$, не может быть очень большим. Например, для уменьшения начального отрезка локализации в $10^6$ раз нужно 19 итераций."
   ]
  },
  {
   "cell_type": "markdown",
   "metadata": {},
   "source": [
    "### Критерий окончания\n",
    "\n",
    "Итерации следует вести до тех пор, пока не будет выполнено неравенство $b^{(n)} - a^{(n)} < 2 \\varepsilon$. При его выполнении можно принять $x^{(n)}$ за приближение к корню с точность $\\varepsilon$."
   ]
  },
  {
   "cell_type": "code",
   "execution_count": 76,
   "metadata": {},
   "outputs": [],
   "source": [
    "def bisection(fun, a0, b0, eps):\n",
    "    a = a0\n",
    "    b = b0\n",
    "    k=1\n",
    "    x = (a0 + b0)/2\n",
    "    while (b - a)/2 > eps:\n",
    "        k+=1\n",
    "        x = (a + b)/2\n",
    "        if fun(a)*fun(x) < 0:\n",
    "            b = x\n",
    "        else:\n",
    "            a = x\n",
    "    x = (a + b)/2\n",
    "    print('кол-во итераций = ',k)\n",
    "    return x"
   ]
  },
  {
   "cell_type": "markdown",
   "metadata": {},
   "source": [
    "<br>\n",
    "$f(x) = (\\lg x)^2-\\lg x -3/4$\n",
    "<br>\n",
    "$g(x) = (\\lg x)^2-3\\lg x +9/4$\n",
    "<br>\n",
    "$[a, b] = [0.1, 35]$"
   ]
  },
  {
   "cell_type": "code",
   "execution_count": 3,
   "metadata": {},
   "outputs": [],
   "source": [
    "f = lambda x : np.log(x)**2 - np.log(x) - 3/4"
   ]
  },
  {
   "cell_type": "code",
   "execution_count": 10,
   "metadata": {},
   "outputs": [
    {
     "data": {
      "text/plain": [
       "[0, 7, -2, 1]"
      ]
     },
     "execution_count": 10,
     "metadata": {},
     "output_type": "execute_result"
    },
    {
     "data": {
      "image/png": "[encoded data removed]",
      "text/plain": [
       "<matplotlib.figure.Figure at 0xa918358>"
      ]
     },
     "metadata": {},
     "output_type": "display_data"
    }
   ],
   "source": [
    "fx = np.arange(0.1, 35, 1e-3)\n",
    "fy = f(fx)\n",
    "plt.plot(fx, fy)\n",
    "plt.plot(fx,[0 for i in range(len(fx))])\n",
    "plt.grid(True)\n",
    "plt.axis([0,7,-2,1])\n"
   ]
  },
  {
   "cell_type": "markdown",
   "metadata": {},
   "source": [
    "Видим 2 корня. Один $-$ на отрезке $[0.1, 2.5]$, второй $-$ на отрезке $[2.5, 5]$"
   ]
  },
  {
   "cell_type": "code",
   "execution_count": 77,
   "metadata": {},
   "outputs": [
    {
     "name": "stdout",
     "output_type": "stream",
     "text": [
      "кол-во итераций =  35\n"
     ]
    },
    {
     "data": {
      "text/plain": [
       "0.606530659715645"
      ]
     },
     "execution_count": 77,
     "metadata": {},
     "output_type": "execute_result"
    }
   ],
   "source": [
    "x1 = bisection(f, 0.1, 2.5, 1e-10)\n",
    "x1"
   ]
  },
  {
   "cell_type": "code",
   "execution_count": 78,
   "metadata": {},
   "outputs": [
    {
     "data": {
      "text/plain": [
       "-9.930500866062175e-12"
      ]
     },
     "execution_count": 78,
     "metadata": {},
     "output_type": "execute_result"
    }
   ],
   "source": [
    "f(x1)"
   ]
  },
  {
   "cell_type": "code",
   "execution_count": 79,
   "metadata": {},
   "outputs": [
    {
     "name": "stdout",
     "output_type": "stream",
     "text": [
      "кол-во итераций =  35\n"
     ]
    },
    {
     "data": {
      "text/plain": [
       "4.481689070307766"
      ]
     },
     "execution_count": 79,
     "metadata": {},
     "output_type": "execute_result"
    }
   ],
   "source": [
    "x2 = bisection(f, 2.5, 5, 1e-10)\n",
    "x2"
   ]
  },
  {
   "cell_type": "code",
   "execution_count": 80,
   "metadata": {},
   "outputs": [
    {
     "data": {
      "text/plain": [
       "-1.3521406216909782e-11"
      ]
     },
     "execution_count": 80,
     "metadata": {},
     "output_type": "execute_result"
    }
   ],
   "source": [
    "f(x2)"
   ]
  },
  {
   "cell_type": "code",
   "execution_count": 16,
   "metadata": {},
   "outputs": [
    {
     "data": {
      "text/plain": [
       "{0.606530659712633, 4.48168907033806}"
      ]
     },
     "execution_count": 16,
     "metadata": {},
     "output_type": "execute_result"
    }
   ],
   "source": [
    "#Проверка встроенным методом\n",
    "x = sym.Symbol('x')\n",
    "sym.solveset(sym.log(x)**2 - sym.log(x) - 3/4, x, domain = sym.S.Reals)"
   ]
  },
  {
   "cell_type": "code",
   "execution_count": 18,
   "metadata": {},
   "outputs": [],
   "source": [
    "g = lambda x :np.log(x)**2 - 3*np.log(x) + 9/4"
   ]
  },
  {
   "cell_type": "code",
   "execution_count": 35,
   "metadata": {},
   "outputs": [
    {
     "data": {
      "text/plain": [
       "[4.4, 4.6, -0.001, 0.001]"
      ]
     },
     "execution_count": 35,
     "metadata": {},
     "output_type": "execute_result"
    },
    {
     "data": {
      "image/png": "[encoded data removed]",
      "text/plain": [
       "<matplotlib.figure.Figure at 0xcc9cc88>"
      ]
     },
     "metadata": {},
     "output_type": "display_data"
    }
   ],
   "source": [
    "xx = np.arange(0.1, 35, 1e-3)\n",
    "gy = g(xx)\n",
    "plt.plot(xx, gy)\n",
    "plt.plot(xx,[0 for i in range(len(xx))])\n",
    "plt.grid(True)\n",
    "plt.axis([4.4,4.6,-0.001,0.001])"
   ]
  },
  {
   "cell_type": "markdown",
   "metadata": {},
   "source": [
    "данный корень имеет четную кратность, поэтому его нельзя найти с помощью метода бисекции"
   ]
  },
  {
   "cell_type": "markdown",
   "metadata": {},
   "source": [
    "# Задача 2.2. \n",
    "Найти положительный корень уравнения $f(x)=0$ с точностью $\\varepsilon=10^{-6}$,  двумя  способами:\n",
    "     1. Использовать метод бисекции. Предварительно определить отрезок локализации  [a,b].\n",
    "     2. Использовать метод Ньютона. В качестве начального приближения для метода Ньютона взять  середину отрезка локализации из п. а).\n",
    "Сравнить число итераций в п. 1, 2.\n",
    "<br>\n",
    "$f(x) = e^x + 1 - \\sqrt{9-x^2}$"
   ]
  },
  {
   "cell_type": "code",
   "execution_count": 36,
   "metadata": {},
   "outputs": [],
   "source": [
    "def f1(x):\n",
    "    return (np.e)**x + 1 - np.sqrt(9-x**2)"
   ]
  },
  {
   "cell_type": "code",
   "execution_count": 37,
   "metadata": {},
   "outputs": [],
   "source": [
    "x = Symbol('x')\n",
    "f1s = exp(x) + 1 - sqrt(9-x**2)"
   ]
  },
  {
   "cell_type": "code",
   "execution_count": 49,
   "metadata": {},
   "outputs": [
    {
     "data": {
      "image/png": "[encoded data removed]",
      "text/plain": [
       "<matplotlib.figure.Figure at 0xcd07198>"
      ]
     },
     "metadata": {},
     "output_type": "display_data"
    }
   ],
   "source": [
    "f1x = np.arange(-3, 3, 1e-3)\n",
    "f1y = f1(f1x)\n",
    "plt.plot(f1x, f1y)\n",
    "plt.plot(f1x,[0 for i in range(len(f1x))])\n",
    "plt.grid(True)"
   ]
  },
  {
   "cell_type": "code",
   "execution_count": 73,
   "metadata": {},
   "outputs": [],
   "source": [
    "def newton(xstart, fun, eps):\n",
    "    x0 = xstart\n",
    "    k = 1\n",
    "    xi = x0 - fun.evalf(subs={x:x0})/diff(fun,x).evalf(subs={x:x0})\n",
    "    while abs(xi - x0) > eps:\n",
    "        k+=1\n",
    "        x0 = xi\n",
    "        xi = x0 - fun.evalf(subs={x:x0})/diff(fun,x).evalf(subs={x:x0})\n",
    "    print ('кол-во итераций = ',k)\n",
    "    return float(xi)"
   ]
  },
  {
   "cell_type": "code",
   "execution_count": 74,
   "metadata": {},
   "outputs": [
    {
     "name": "stdout",
     "output_type": "stream",
     "text": [
      "кол-во итераций =  6\n"
     ]
    },
    {
     "data": {
      "text/plain": [
       "0.6561534966854013"
      ]
     },
     "execution_count": 74,
     "metadata": {},
     "output_type": "execute_result"
    }
   ],
   "source": [
    "x_appr_n = newton(0, f1s, 1e-6)\n",
    "x_appr_n"
   ]
  },
  {
   "cell_type": "code",
   "execution_count": 81,
   "metadata": {},
   "outputs": [
    {
     "name": "stdout",
     "output_type": "stream",
     "text": [
      "кол-во итераций =  20\n"
     ]
    },
    {
     "data": {
      "text/plain": [
       "0.656153678894043"
      ]
     },
     "execution_count": 81,
     "metadata": {},
     "output_type": "execute_result"
    }
   ],
   "source": [
    "x_appr_bis = bisection(f1, 0, 1, 1e-6)\n",
    "x_appr_bis"
   ]
  },
  {
   "cell_type": "markdown",
   "metadata": {},
   "source": [
    "в методе бисекции итераций больше"
   ]
  },
  {
   "cell_type": "markdown",
   "metadata": {},
   "source": [
    "# Задача 2.3\n",
    "Локализовать корни уравнения $f(x)=0$ и найти их с точностью $\\varepsilon=10^{-5}$, используя метод простой итерации. К виду $x=\\phi(x)$, удобному для итераций, уравнение $f(x)=0$ привести двумя способами\n",
    "1. Преобразовать уравнение к виду  $x=x-\\alpha\\:f(x)$,    где $\\alpha=\\frac{2}{M+m}$, $0<m\\leq f'(x)\\leq M$, а $x$ принадлежит отрезку    локализации $[a, b]$.\n",
    "2. Любым  другим  преобразованием  уравнения. Проверить достаточное условие сходимости метода. \n",
    "<br>\n",
    "\n",
    "Использовать критерий окончания итерационного процесса вида $\\Bigr|\\:x^{(n)}-x^{(n-1)}\\:\\Bigr|<\\frac{1-q}{q}\\varepsilon$, где:\n",
    "<br>в  п. 1)  $q=\\frac{M-m}{M+m}$, \n",
    "<br>в п. 2)  $q = \\max\\limits_{x\\in[a,b]}\\Bigr|\\:\\phi'(x)\\:\\Bigr|$.\n",
    "<br>\n",
    "Cравнить число итераций и значения величины $q$  в  п. 1),  2).\n",
    "<br>\n",
    "$f(x)=\\sin(x+2)-x^2+2x-1$"
   ]
  },
  {
   "cell_type": "code",
   "execution_count": 44,
   "metadata": {},
   "outputs": [],
   "source": [
    "def f3(x_): \n",
    "    return np.sin(x_+2) - x_**2 + 2*x_ - 1"
   ]
  },
  {
   "cell_type": "code",
   "execution_count": 48,
   "metadata": {},
   "outputs": [
    {
     "data": {
      "image/png": "[encoded data removed]",
      "text/plain": [
       "<matplotlib.figure.Figure at 0xcc43710>"
      ]
     },
     "metadata": {},
     "output_type": "display_data"
    }
   ],
   "source": [
    "f3x = np.arange(-10, 10, 1e-3)\n",
    "f3y = f3(f3x)\n",
    "plt.plot(f3x, f3y)\n",
    "plt.plot(f3x,[0 for i in range(len(f3x))])\n",
    "plt.grid(True)"
   ]
  },
  {
   "cell_type": "code",
   "execution_count": 47,
   "metadata": {},
   "outputs": [
    {
     "data": {
      "text/plain": [
       "[-0.1, 1.2, -0.5, 0.5]"
      ]
     },
     "execution_count": 47,
     "metadata": {},
     "output_type": "execute_result"
    },
    {
     "data": {
      "image/png": "[encoded data removed]",
      "text/plain": [
       "<matplotlib.figure.Figure at 0xbb20d30>"
      ]
     },
     "metadata": {},
     "output_type": "display_data"
    }
   ],
   "source": [
    "plt.plot(f3x, f3y)\n",
    "plt.grid(True)\n",
    "plt.plot(f3x,[0 for i in range(len(f3x))])\n",
    "plt.axis([-0.1, 1.2, -0.5, 0.5])"
   ]
  },
  {
   "cell_type": "code",
   "execution_count": 50,
   "metadata": {},
   "outputs": [],
   "source": [
    "def f3s(x): \n",
    "    return sin(x+2) - x**2 + 2*x - 1"
   ]
  },
  {
   "cell_type": "markdown",
   "metadata": {},
   "source": [
    "Отрезки локализации: $[0,\\:0.2]$, $[1,\\:1.2]$"
   ]
  },
  {
   "cell_type": "code",
   "execution_count": 83,
   "metadata": {},
   "outputs": [],
   "source": [
    "def fpit(fun, a, b, eps):\n",
    "    k = 1\n",
    "    m0 = sym.diff(fun(sym.Symbol('x')), sym.Symbol('x')).subs(sym.Symbol('x'), a).evalf()\n",
    "    M0 = sym.diff(fun(sym.Symbol('x')), sym.Symbol('x')).subs(sym.Symbol('x'), b).evalf()\n",
    "    m = abs(m0)\n",
    "    M = abs(M0)\n",
    "    if m > M:\n",
    "        m, M = M, m\n",
    "    q = (M - m)/(M + m)\n",
    "    alpha = 2/(M0 + m0)\n",
    "    print(\"q =\", q)\n",
    "    #Достаточное условие\n",
    "    if q >= 1:\n",
    "        print(\"q >= 1\")\n",
    "        return 0\n",
    "    x0 = (a + b)/2\n",
    "    x1 = x0 - alpha*fun(x0).evalf()\n",
    "    while abs(x1 - x0) > (1 - q)/q*eps:\n",
    "        k+=1\n",
    "        x0 = x1\n",
    "        x1 = x0 - alpha*fun(x0).evalf()\n",
    "    print ('кол-во итераций = ',k)\n",
    "    return x1"
   ]
  },
  {
   "cell_type": "code",
   "execution_count": 84,
   "metadata": {},
   "outputs": [
    {
     "name": "stdout",
     "output_type": "stream",
     "text": [
      "q = 0.220530498568303\n",
      "кол-во итераций =  4\n"
     ]
    }
   ],
   "source": [
    "x1_pit = fpit(f3s, 0, 0.2, 1e-5)"
   ]
  },
  {
   "cell_type": "code",
   "execution_count": 85,
   "metadata": {},
   "outputs": [
    {
     "name": "stdout",
     "output_type": "stream",
     "text": [
      "q = 0.170960287698064\n",
      "кол-во итераций =  3\n"
     ]
    }
   ],
   "source": [
    "x2_pit = fpit(f3s, 1, 1.2, 1e-5)"
   ]
  },
  {
   "cell_type": "code",
   "execution_count": 86,
   "metadata": {},
   "outputs": [],
   "source": [
    "def newton_plus(func, a, b, eps):\n",
    "    k = 1\n",
    "    phidxc = np.arange(a, b, 1e-3)\n",
    "    phidyc = np.arange(a, b, 1e-3)\n",
    "    l = np.shape(phidxc)[0]\n",
    "    i = 0\n",
    "    while i < l:\n",
    "        phidyc[i] = (func(sym.Symbol('x'))*sym.diff(func(sym.Symbol('x')), sym.Symbol('x'), 2)/(sym.diff(func(sym.Symbol('x')), sym.Symbol('x'))**2)).subs(sym.Symbol('x'), phidxc[i]).evalf()\n",
    "        i += 1\n",
    "    q = np.max(phidyc)\n",
    "    print(\"q =\", q)\n",
    "    #Достаточное условие\n",
    "    if q >= 1:\n",
    "        print(\"q >= 1\")\n",
    "        return 0\n",
    "    xstart = (a + b)/2\n",
    "    x0 = xstart\n",
    "    x1 = (x0 - func(x0)/sym.diff(func(sym.Symbol('x')), sym.Symbol('x')).subs(sym.Symbol('x'), x0)).evalf()\n",
    "    while abs(x1 - x0) > (1 - q)/q*eps:\n",
    "        k+=1\n",
    "        x0 = x1\n",
    "        x1 = (x0 - func(x0)/sym.diff(func(sym.Symbol('x')), sym.Symbol('x')).subs(sym.Symbol('x'), x0)).evalf()\n",
    "    print ('кол-во итераций = ',k)\n",
    "    return x1"
   ]
  },
  {
   "cell_type": "code",
   "execution_count": 87,
   "metadata": {},
   "outputs": [
    {
     "name": "stdout",
     "output_type": "stream",
     "text": [
      "q = 0.10519083390538364\n",
      "кол-во итераций =  3\n"
     ]
    }
   ],
   "source": [
    "x1_n = newton_plus(f3s, 0, 0.2, 1e-5)"
   ]
  },
  {
   "cell_type": "code",
   "execution_count": 88,
   "metadata": {},
   "outputs": [
    {
     "name": "stdout",
     "output_type": "stream",
     "text": [
      "q = 0.09661988135603919\n",
      "кол-во итераций =  3\n"
     ]
    }
   ],
   "source": [
    "x2_n = newton_plus(f3s, 1, 1.2, 1e-5)"
   ]
  }
 ],
 "metadata": {
  "kernelspec": {
   "display_name": "Python 3",
   "language": "python",
   "name": "python3"
  },
  "language_info": {
   "codemirror_mode": {
    "name": "ipython",
    "version": 3
   },
   "file_extension": ".py",
   "mimetype": "text/x-python",
   "name": "python",
   "nbconvert_exporter": "python",
   "pygments_lexer": "ipython3",
   "version": "3.6.4"
  }
 },
 "nbformat": 4,
 "nbformat_minor": 2
}
