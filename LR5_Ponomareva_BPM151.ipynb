{
 "cells": [
  {
   "cell_type": "markdown",
   "metadata": {},
   "source": [
    "# Лабораторная работа №5 (Пономарева А.Ю., группа БПМ-151)\n",
    "## РЕШЕНИЕ  СИСТЕМ  ЛИНЕЙНЫХ АЛГЕБРАИЧЕСКИХ УРАВНЕНИЙ ИТЕРАЦИОННЫМИ МЕТОДАМИ \n",
    "### Вариант 23"
   ]
  },
  {
   "cell_type": "markdown",
   "metadata": {},
   "source": [
    "## Задача 5.1\n",
    "\n",
    "Дана  система уравнений  $Ax = b$. Найти решение  системы  с помощью метода Гаусса. Выполнить $10$ итераций по методу Зейделя. Принимая решение,  полученное с помощью метода Гаусса  за точное, найти величину абсолютной погрешности итерационного решения. "
   ]
  },
  {
   "cell_type": "markdown",
   "metadata": {},
   "source": [
    "$A =  \\begin{bmatrix}\n",
    "   118.8 & -14 & -5 & -89.1 \\\\    \n",
    "   -59.4 & 194 & 5 & 128.7 \\\\\n",
    "   148.5 & 12 & -310 & 148.5 \\\\\n",
    "   0 & 18.5 & 90 & -108.9    \n",
    "   \\end{bmatrix}\n",
    "$\n",
    "\n",
    "$ b =\\begin{bmatrix}\n",
    "451.5 \\\\\n",
    "-1158.3 \\\\\n",
    "5700\\\\\n",
    "-2060.7\n",
    "\\end{bmatrix}\n",
    "$"
   ]
  },
  {
   "cell_type": "code",
   "execution_count": 1,
   "metadata": {},
   "outputs": [],
   "source": [
    "import numpy as np\n",
    "from math import sqrt\n",
    "from numpy.linalg import solve, norm\n",
    "import matplotlib.pyplot as plt\n",
    "\n",
    "%matplotlib inline"
   ]
  },
  {
   "cell_type": "code",
   "execution_count": 2,
   "metadata": {},
   "outputs": [],
   "source": [
    "A = np.array([[118.8, -14, -5, -89.1], \n",
    "              [-59.4, 194, 5, 128.7], \n",
    "              [148.5, 12, -310, 148.5], \n",
    "              [0, 18.5, 90, -108.9]])\n",
    "b = np.array([[451.5],\n",
    "              [-1158.3],\n",
    "              [5700],\n",
    "              [-2060.7]])"
   ]
  },
  {
   "cell_type": "code",
   "execution_count": 3,
   "metadata": {},
   "outputs": [
    {
     "data": {
      "text/plain": [
       "array([[ 118.8,  -14. ,   -5. ,  -89.1],\n",
       "       [ -59.4,  194. ,    5. ,  128.7],\n",
       "       [ 148.5,   12. , -310. ,  148.5],\n",
       "       [   0. ,   18.5,   90. , -108.9]])"
      ]
     },
     "execution_count": 3,
     "metadata": {},
     "output_type": "execute_result"
    }
   ],
   "source": [
    "A"
   ]
  },
  {
   "cell_type": "code",
   "execution_count": 4,
   "metadata": {},
   "outputs": [
    {
     "data": {
      "text/plain": [
       "array([[  451.5],\n",
       "       [-1158.3],\n",
       "       [ 5700. ],\n",
       "       [-2060.7]])"
      ]
     },
     "execution_count": 4,
     "metadata": {},
     "output_type": "execute_result"
    }
   ],
   "source": [
    "b"
   ]
  },
  {
   "cell_type": "markdown",
   "metadata": {},
   "source": [
    "С помощью встроенной в $numpy$ функции $solve$ найдем истинное решение"
   ]
  },
  {
   "cell_type": "code",
   "execution_count": 5,
   "metadata": {},
   "outputs": [],
   "source": [
    "x_true = solve(A, b)"
   ]
  },
  {
   "cell_type": "code",
   "execution_count": 6,
   "metadata": {},
   "outputs": [
    {
     "data": {
      "text/plain": [
       "array([[ 9.23232323],\n",
       "       [-9.        ],\n",
       "       [-9.9       ],\n",
       "       [ 9.21212121]])"
      ]
     },
     "execution_count": 6,
     "metadata": {},
     "output_type": "execute_result"
    }
   ],
   "source": [
    "x_true"
   ]
  },
  {
   "cell_type": "markdown",
   "metadata": {},
   "source": [
    "**Преобразуем систему $Ax=b$ к виду $x=Bx+c$, удобному для итераций.** <br/>\n",
    "Как говорит нам учебник Амосова: <br/>\n",
    "\"Для того чтобы применить метод простой итерации к решению СЛАУ $ Ax = b$ с квадратной невырожденной матрицей $A$ необходимо преобразовать систему к виду: $$\\large x = Bx + c\\qquad (1)$$\n",
    "где $\\large B$ - квадратная матрица с элементами $\\large b_{i, j}, i, j = 1, ... , n$,\n",
    "\n",
    "$\\large c$ - вектор-столбец с элементами $\\large c_{i}, i = 1, ..., n$\n",
    "\n",
    "В развернутой форме система (1) примет вид:\n",
    "\n",
    "$$\\large x_{1} = b_{1,1}x_{1} + b_{1,2}x_{2} + b_{1,3}x_{3} + ... + b_{1, n}x_{n} + c_{1},$$$$\\large x_{2} = b_{2,1}x_{1} + b_{2,2}x_{2} + b_{2,3}x_{3} + ... + b_{2, n}x_{n} + c_{2},$$$$\\large \\dotsb \\quad \\dotsb \\quad \\dotsb \\quad \\dotsb \\quad \\dotsb$$$$\\large x_{n} = b_{n,1}x_{1} + b_{n,2}x_{2} + b_{n,3}x_{3} + ... + b_{n, n}x_{n} + c_{n},$$\n",
    "Вообще говоря данная операция приведения к виду удобному для итераций не является простой и требует специальных знаний о специфике системы.\n",
    "Самый простой способ состоит в следующем:\n",
    "\n",
    "$\\large x_{1} = a_{1,1}^{-1}(b_{1} - a_{1,2}x_{1} - a_{1,3}x_{2} - a_{1,3}x_{3} - ... - a_{1,n}x_{n})$ - из первого уравнения системы выражаем $x_{1}$,\n",
    "\n",
    "$\\large x_{2} = a_{2,2}^{-1}(b_{2} - a_{2,1}x_{1} - a_{2,3}x_{2} - a_{3,3}x_{3} - ... - a_{3,n}x_{n})$ - из первого уравнения системы выражаем $x_{3}$,\n",
    "\n",
    "Продолжаем выражать корни и получаем систему:\n",
    "\n",
    "$$\\large x_{1} = \\qquad\\quad b_{1,2}x_{2} + b_{1,3}x_{3} + \\dotsb + b_{1, n}x_{n} + c_{1},$$$$\\large x_{2} = b_{2,1}x_{1} + \\qquad\\quad b_{2,3}x_{3} + \\dotsb + b_{2, n}x_{n} + c_{2},$$$$\\large x_{3} = b_{3,1}x_{1} + b_{3,2}x_{2}  \\qquad\\quad + \\dotsb + b_{2, n}x_{n} + c_{2},$$\n",
    "$\\qquad\\qquad \\qquad\\qquad \\qquad\\qquad \\qquad\\qquad  \\dotsb \\quad \\dotsb \\quad \\dotsb \\quad \\dotsb \\quad \\dotsb \\qquad\\qquad \\qquad\\qquad (2) $ $$\\large x_{n} = b_{n,1}x_{1} + b_{n,2}x_{2} + b_{n,3}x_{3} + \\dotsb \\qquad\\quad +c_{n},$$ в которой на главной диагонали стоят нулевые элементы.Остальные выражаются по формулам: $\\large b_{i, j} = \\frac{-a_{i, j}}{a_{i, i}}, c_{i} = \\frac{b_{i}}{a_{i, i}}, \\quad i,j = 1, ..., n, i\\neq j  \\quad\\quad (3)$\n",
    "\n",
    "Конечно для выполнения данного преобразования необходимо, чтобы диагональные элементы матрицы $А$ были не нулевыми\"."
   ]
  },
  {
   "cell_type": "markdown",
   "metadata": {},
   "source": [
    "Зададим функцию, которая раскладывает матрицу $A$ c ненулевыми диагональными элементами на верхнетреугольную матрицу $B_2$ и нижнетреугольную матрицу $B_1$."
   ]
  },
  {
   "cell_type": "code",
   "execution_count": 7,
   "metadata": {},
   "outputs": [],
   "source": [
    "def transform(A, b):\n",
    "    B1, B2 = np.zeros_like(A), np.zeros_like(A)\n",
    "    c = np.zeros_like(b)\n",
    "    for i in range(len(A)):\n",
    "        B1[i, :i] = -A[i, :i]/A[i, i]\n",
    "        B2[i, i+1:] = -A[i, i+1:]/A[i, i]\n",
    "        c[i] = b[i]/A[i, i]\n",
    "    return B1, B2, c"
   ]
  },
  {
   "cell_type": "markdown",
   "metadata": {},
   "source": [
    "Приведем данную нам систему $Ax=b$ к итерируемому виду с помощью написанной функции $transform$. "
   ]
  },
  {
   "cell_type": "code",
   "execution_count": 8,
   "metadata": {},
   "outputs": [],
   "source": [
    "B1, B2, c = transform(A, b)"
   ]
  },
  {
   "cell_type": "code",
   "execution_count": 9,
   "metadata": {},
   "outputs": [
    {
     "data": {
      "text/plain": [
       "array([[0.        , 0.        , 0.        , 0.        ],\n",
       "       [0.30618557, 0.        , 0.        , 0.        ],\n",
       "       [0.47903226, 0.03870968, 0.        , 0.        ],\n",
       "       [0.        , 0.16988062, 0.82644628, 0.        ]])"
      ]
     },
     "execution_count": 9,
     "metadata": {},
     "output_type": "execute_result"
    }
   ],
   "source": [
    "B1"
   ]
  },
  {
   "cell_type": "code",
   "execution_count": 10,
   "metadata": {},
   "outputs": [
    {
     "data": {
      "text/plain": [
       "array([[ 0.        ,  0.11784512,  0.04208754,  0.75      ],\n",
       "       [ 0.        ,  0.        , -0.0257732 , -0.66340206],\n",
       "       [ 0.        ,  0.        ,  0.        ,  0.47903226],\n",
       "       [ 0.        ,  0.        ,  0.        ,  0.        ]])"
      ]
     },
     "execution_count": 10,
     "metadata": {},
     "output_type": "execute_result"
    }
   ],
   "source": [
    "B2"
   ]
  },
  {
   "cell_type": "code",
   "execution_count": 11,
   "metadata": {},
   "outputs": [
    {
     "data": {
      "text/plain": [
       "array([[  3.80050505],\n",
       "       [ -5.97061856],\n",
       "       [-18.38709677],\n",
       "       [ 18.92286501]])"
      ]
     },
     "execution_count": 11,
     "metadata": {},
     "output_type": "execute_result"
    }
   ],
   "source": [
    "c"
   ]
  },
  {
   "cell_type": "markdown",
   "metadata": {},
   "source": [
    "Теперь следует проверить выполнение достаточного условия сходимости итерационных методов: \n",
    "<br>$||B||_{\\infty} < 1$</br>"
   ]
  },
  {
   "cell_type": "code",
   "execution_count": 12,
   "metadata": {},
   "outputs": [
    {
     "name": "stdout",
     "output_type": "stream",
     "text": [
      "True\n"
     ]
    }
   ],
   "source": [
    "B_norm = norm(B1+B2, ord=np.inf)\n",
    "print(B_norm < 1)"
   ]
  },
  {
   "cell_type": "markdown",
   "metadata": {},
   "source": [
    "Зададим функцию, реализующую метод Гаусса-Зейделя. \n",
    "Внтури нее будем вызывать уже написанную функцию $transform(A,b)$: так удобнее работать с изначальной системой."
   ]
  },
  {
   "cell_type": "code",
   "execution_count": 31,
   "metadata": {},
   "outputs": [],
   "source": [
    "def gase(A, b, x0, n=100, eps=0):\n",
    "    B1, B2, c = transform(A, b) # приводим систему к итерационному виду\n",
    "    B = B1 + B2\n",
    "    count=1 # счита итерации\n",
    "    \n",
    "    x = np.copy(x0)\n",
    "    eps2 = eps*(1 - np.linalg.norm(B1+B2, np.inf))/np.linalg.norm(B2, np.inf)\n",
    "\n",
    "    for k in range(n):\n",
    "        x_new = np.copy(x)\n",
    "        count+=1\n",
    "        for i in range(B.shape[0]):\n",
    "            s1 = np.dot(B[i, :i], x_new[:i])\n",
    "            s2 = np.dot(B[i, i + 1:], x[i + 1:])\n",
    "            x_new[i] = c[i] + s1 + s2\n",
    "            converge = np.linalg.norm((x_new - x), ord=2) < eps2\n",
    "        if converge:\n",
    "                print ('кол-во итераций -',count)\n",
    "                return x_new\n",
    "        x = x_new \n",
    "    print ('кол-во итераций -',count)\n",
    "    return x"
   ]
  },
  {
   "cell_type": "code",
   "execution_count": 14,
   "metadata": {},
   "outputs": [
    {
     "name": "stdout",
     "output_type": "stream",
     "text": [
      "кол-во итераций - 11\n"
     ]
    }
   ],
   "source": [
    "x0 = np.zeros_like(c)\n",
    "x_10 = gase(A, b, x0, 10, eps=0)"
   ]
  },
  {
   "cell_type": "markdown",
   "metadata": {},
   "source": [
    "Принимая решение, полученное методом $linalg.solve(A, b)$, за точное, найдем величину абсолютной погрешности итерационного решения (используя норму $||\\cdot||_{\\infty}$). "
   ]
  },
  {
   "cell_type": "code",
   "execution_count": 36,
   "metadata": {},
   "outputs": [
    {
     "name": "stdout",
     "output_type": "stream",
     "text": [
      "Решение встроенным методом (истинное):\n",
      " [ 9.23232323 -9.         -9.9         9.21212121]\n",
      "Решение методом Гаусса-Зейделя за 11 итераций для x0 =[[0.0], [0.0], [0.0], [0.0]]:\n",
      " [ 9.18744407 -8.96957409 -9.95058966  9.17548035]\n",
      "Ошибка:\n",
      "0.050589661873310376\n"
     ]
    }
   ],
   "source": [
    "print('Решение встроенным методом (истинное):\\n {0}'.format(x_true.flatten().T))\n",
    "print('Решение методом Гаусса-Зейделя за 11 итераций для x0 ={0}:\\n {1}'.format(x0.tolist(), x_10.flatten().T))\n",
    "print('Ошибка:\\n{0}'.format(norm((x_true-x_10), ord=np.inf)))"
   ]
  },
  {
   "cell_type": "markdown",
   "metadata": {},
   "source": [
    "Теперь нам нужно взять *любое другое* начальное приближение и объяснить полученные результаты. "
   ]
  },
  {
   "cell_type": "code",
   "execution_count": 30,
   "metadata": {},
   "outputs": [
    {
     "name": "stdout",
     "output_type": "stream",
     "text": [
      "кол-во итераций - 11\n"
     ]
    },
    {
     "data": {
      "text/plain": [
       "array([[ 9.19369519],\n",
       "       [-8.97381205],\n",
       "       [-9.94354313],\n",
       "       [ 9.18058398]])"
      ]
     },
     "execution_count": 30,
     "metadata": {},
     "output_type": "execute_result"
    }
   ],
   "source": [
    "x0 = np.ones_like(b)\n",
    "x_1 = gase(A, b, x0, 10)\n",
    "x_1"
   ]
  },
  {
   "cell_type": "code",
   "execution_count": 35,
   "metadata": {},
   "outputs": [
    {
     "name": "stdout",
     "output_type": "stream",
     "text": [
      "Решение встроенным методом (истинное):\n",
      " [ 9.23232323 -9.         -9.9         9.21212121]\n",
      "Решение методом Гаусса-Зейделя за 11 итераций для x0 =[[0.0], [0.0], [0.0], [0.0]]:\n",
      " [ 9.19369519 -8.97381205 -9.94354313  9.18058398]\n",
      "Ошибка:\n",
      "0.04354313234117413\n"
     ]
    }
   ],
   "source": [
    "print('Решение встроенным методом (истинное):\\n {0}'.format(x_true.flatten().T))\n",
    "print('Решение методом Гаусса-Зейделя за 11 итераций для x0 ={0}:\\n {1}'.format(x0.tolist(), x_1.flatten().T))\n",
    "print('Ошибка:\\n{0}'.format(norm((x_true-x_1), ord=np.inf)))"
   ]
  },
  {
   "cell_type": "code",
   "execution_count": 18,
   "metadata": {},
   "outputs": [
    {
     "name": "stdout",
     "output_type": "stream",
     "text": [
      "кол-во итераций - 11\n"
     ]
    }
   ],
   "source": [
    "x0 = np.array([[9.19369519] ,[-8.97381205], [-9.94354313] , [9.18058398]])\n",
    "x_close = gase(A, b, x0, 10)"
   ]
  },
  {
   "cell_type": "code",
   "execution_count": 34,
   "metadata": {},
   "outputs": [
    {
     "name": "stdout",
     "output_type": "stream",
     "text": [
      "Решение встроенным методом (истинное):\n",
      " [ 9.23232323 -9.         -9.9         9.21212121]\n",
      "Решение методом Гаусса-Зейделя за 11 итераций для x0 =[[0.0], [0.0], [0.0], [0.0]]:\n",
      " [ 9.23215718 -8.99988742 -9.90018718  9.21198564]\n",
      "Ошибка:\n",
      "0.0001871812232678849\n"
     ]
    }
   ],
   "source": [
    "print('Решение встроенным методом (истинное):\\n {0}'.format(x_true.flatten().T))\n",
    "print('Решение методом Гаусса-Зейделя за 11 итераций для x0 ={0}:\\n {1}'.format(x0.tolist(), x_close.flatten().T))\n",
    "print('Ошибка:\\n{0}'.format(norm((x_true-x_close), ord=np.inf)))"
   ]
  },
  {
   "cell_type": "markdown",
   "metadata": {},
   "source": [
    "Ошибка меньше, т.к. мы взяли достаточно точное приближение к истинному решению системы $x_true$, и за 11 итераций сильнее приблизились к истинному ответу."
   ]
  },
  {
   "cell_type": "markdown",
   "metadata": {},
   "source": [
    "## Задача 5.2\n",
    "Для системы уравнений $\\large Ax=b$ из задачи 1 найти решение по методу Зейделя с точностью $\\large \\varepsilon = 10^{-6}$, взяв *любое* начальное приближение. Подсчитать количество итераций до сходимости."
   ]
  },
  {
   "cell_type": "code",
   "execution_count": 32,
   "metadata": {},
   "outputs": [
    {
     "name": "stdout",
     "output_type": "stream",
     "text": [
      "кол-во итераций - 42\n"
     ]
    },
    {
     "data": {
      "text/plain": [
       "array([[ 9.23232323],\n",
       "       [-9.        ],\n",
       "       [-9.9       ],\n",
       "       [ 9.21212121]])"
      ]
     },
     "execution_count": 32,
     "metadata": {},
     "output_type": "execute_result"
    }
   ],
   "source": [
    "x0 = np.zeros_like(c)\n",
    "x_eps = gase(A, b, x0, eps=1e-6)\n",
    "x_eps"
   ]
  },
  {
   "cell_type": "code",
   "execution_count": 33,
   "metadata": {},
   "outputs": [
    {
     "name": "stdout",
     "output_type": "stream",
     "text": [
      "Решение встроенным методом (истинное):\n",
      " [ 9.23232323 -9.         -9.9         9.21212121]\n",
      "Решение методом Гаусса-Зейделя с начальным приближением x_ones = [[0.0], [0.0], [0.0], [0.0]] и точностью epsilon = 10^(-6):\n",
      " [ 9.23232323 -9.         -9.9         9.21212121]\n",
      "Ошибка:\n",
      "2.3303581286882036e-09\n"
     ]
    }
   ],
   "source": [
    "print('Решение встроенным методом (истинное):\\n {0}'.format(x_true.flatten().T))\n",
    "print('Решение методом Гаусса-Зейделя с начальным приближением x_ones = {0} и точностью epsilon = 10^(-6):\\n {1}'.format(x0.tolist(), x_eps.flatten().T))\n",
    "print('Ошибка:\\n{0}'.format(norm((x_true-x_eps), ord=np.inf)))"
   ]
  },
  {
   "cell_type": "code",
   "execution_count": null,
   "metadata": {},
   "outputs": [],
   "source": []
  },
  {
   "cell_type": "code",
   "execution_count": null,
   "metadata": {},
   "outputs": [],
   "source": []
  }
 ],
 "metadata": {
  "kernelspec": {
   "display_name": "Python 3",
   "language": "python",
   "name": "python3"
  },
  "language_info": {
   "codemirror_mode": {
    "name": "ipython",
    "version": 3
   },
   "file_extension": ".py",
   "mimetype": "text/x-python",
   "name": "python",
   "nbconvert_exporter": "python",
   "pygments_lexer": "ipython3",
   "version": "3.6.4"
  }
 },
 "nbformat": 4,
 "nbformat_minor": 2
}
