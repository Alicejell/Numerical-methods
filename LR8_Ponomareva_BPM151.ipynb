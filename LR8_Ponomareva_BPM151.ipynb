{
 "cells": [
  {
   "cell_type": "markdown",
   "metadata": {},
   "source": [
    "### Лабораторная работа 8 \"ЧИСЛЕННОЕ ИНТЕГРИРОВАНИЕ\"\n",
    "### Пономарева Алиса БПМ-151\n",
    "### Вариант 23"
   ]
  },
  {
   "cell_type": "markdown",
   "metadata": {},
   "source": [
    "### Задача 8.1. "
   ]
  },
  {
   "cell_type": "markdown",
   "metadata": {},
   "source": [
    "Вычислить значение интеграла $I = \\int_1^{1.44} P_{n}(x),\\mathrm{d}x$ , где $P_{n}(x) = \\sum_{i=0}^{n} c_i x^{i} $, с помощью квадратурных формул трапеций и Симпсона для элементарного отрезка интегрирования. Оценить величину погрешности. Применяя те же квадратурные формулы для составного отрезка интегрирования, вычислить интеграл $I$ с точностью 0.0001. Предварительно оценить шаг интегрирования, при котором достигается заданная точность. "
   ]
  },
  {
   "cell_type": "markdown",
   "metadata": {},
   "source": [
    "ПОРЯДОК РЕШЕНИЯ ЗАДАЧИ:\n",
    "1. Вычислить значение интеграла   аналитически.\n",
    "2. Задать многочлен $P_{n}(x)$ . Вычислить значение интеграла $I$ по формулам трапеций и Симпсона, считая отрезок $[1,1.44]$  элементарным отрезком интегрирования.\n",
    "3. Найти абсолютные погрешности результатов.\n",
    "4. Используя выражение для остаточных членов интегрирования (см. ПРИЛОЖЕНИЕ 8.C), оценить шаги интегрирования, при которых величина погрешности каждой квадратурной формулы будет меньше 0.0001.\n",
    "5. Вычислить значения интеграла по составной квадратурной формуле с найденным шагом (см. ПРИЛОЖЕНИЕ 8.B).\n",
    "6. Найти абсолютные погрешности результатов. \n"
   ]
  },
  {
   "cell_type": "markdown",
   "metadata": {},
   "source": [
    "$c_0=7.9; c_1=-0.4; c_2=2.7; c_3=0.7; c_4=-2.4; c_5=-2.7$"
   ]
  },
  {
   "cell_type": "code",
   "execution_count": 83,
   "metadata": {},
   "outputs": [],
   "source": [
    "import numpy as np\n",
    "import math\n",
    "from matplotlib import mlab\n",
    "from matplotlib import pyplot as plt\n",
    "import sympy as sy\n",
    "\n",
    "%matplotlib inline"
   ]
  },
  {
   "cell_type": "markdown",
   "metadata": {},
   "source": [
    "1. Аналитическое решение"
   ]
  },
  {
   "cell_type": "markdown",
   "metadata": {},
   "source": [
    "$\\int_1^{1.44}(7.9-0.4\\cdot x+2.7\\cdot x^2+0.7\\cdot x^3-2.4\\cdot x^4-2.7\\cdot x^5) dx = -0.428145 $"
   ]
  },
  {
   "cell_type": "markdown",
   "metadata": {},
   "source": [
    "$ 1) 7.9\\int_1^{1.44} dx = 3.476$"
   ]
  },
  {
   "cell_type": "markdown",
   "metadata": {},
   "source": [
    "$2) -0.4\\int_1^{1.44} xdx = -0.21472$"
   ]
  },
  {
   "cell_type": "markdown",
   "metadata": {},
   "source": [
    "$3) 2.7\\int_1^{1.44} x^2dx = 1.78739$"
   ]
  },
  {
   "cell_type": "markdown",
   "metadata": {},
   "source": [
    "$4) 0.7\\int_1^{1.44} x^3dx = 0.577468$"
   ]
  },
  {
   "cell_type": "markdown",
   "metadata": {},
   "source": [
    "$5) -2.4\\int_1^{1.44} x^4dx = -2.49203$"
   ]
  },
  {
   "cell_type": "markdown",
   "metadata": {},
   "source": [
    "$6) -2.7\\int_1^{1.44} x^5dx = -3.56225$"
   ]
  },
  {
   "cell_type": "markdown",
   "metadata": {},
   "source": [
    "2.Задать многочлен $P_{n}(x)$ . Вычислить значение интеграла $I$ по формулам трапеций и Симпсона, считая отрезок $[1,1.44]$  элементарным отрезком интегрирования"
   ]
  },
  {
   "cell_type": "code",
   "execution_count": 11,
   "metadata": {
    "collapsed": true
   },
   "outputs": [],
   "source": [
    "eps =1e-4"
   ]
  },
  {
   "cell_type": "code",
   "execution_count": 74,
   "metadata": {},
   "outputs": [],
   "source": [
    "a, b = 1, 1.44\n",
    "real_res = -0.428145\n",
    "c = np.array([-2.7, -2.4, 0.7, 2.7, -0.4, 5.6])\n",
    "P_n = np.poly1d(c)"
   ]
  },
  {
   "cell_type": "code",
   "execution_count": 43,
   "metadata": {},
   "outputs": [
    {
     "name": "stdout",
     "output_type": "stream",
     "text": [
      "      5       4       3       2\n",
      "-2.7 x - 2.4 x + 0.7 x + 2.7 x - 0.4 x + 5.6\n"
     ]
    }
   ],
   "source": [
    "print(P_n)"
   ]
  },
  {
   "cell_type": "code",
   "execution_count": 44,
   "metadata": {},
   "outputs": [
    {
     "data": {
      "text/plain": [
       "[<matplotlib.lines.Line2D at 0x907abe0>]"
      ]
     },
     "execution_count": 44,
     "metadata": {},
     "output_type": "execute_result"
    },
    {
     "data": {
      "image/png": "[encoded data removed]",
      "text/plain": [
       "<matplotlib.figure.Figure at 0x8efd278>"
      ]
     },
     "metadata": {},
     "output_type": "display_data"
    }
   ],
   "source": [
    "plt.plot(np.arange(a,b,0.01), P_n(np.arange(a,b,0.01)))"
   ]
  },
  {
   "cell_type": "code",
   "execution_count": 51,
   "metadata": {
    "collapsed": true
   },
   "outputs": [],
   "source": [
    "def trapezoidal(f, a, b, n):\n",
    "    \"\"\" \n",
    "    Вычисляет приближенное значение интеграла с помощью формулы трапеций\n",
    "    f - подынтегральная функция\n",
    "    a, b - пределы интегрирования\n",
    "    n - количество частичных отрезков\n",
    "    \"\"\"\n",
    "    h = float(b - a)/n\n",
    "    result = 0.5*(f(a) + f(b))\n",
    "    for i in range(1, n):\n",
    "        result += f(a + i*h)\n",
    "    result *= h\n",
    "    return result"
   ]
  },
  {
   "cell_type": "code",
   "execution_count": 68,
   "metadata": {
    "collapsed": true
   },
   "outputs": [],
   "source": [
    "res1 = trapezoidal(P_n,a,b,1)"
   ]
  },
  {
   "cell_type": "code",
   "execution_count": 69,
   "metadata": {},
   "outputs": [
    {
     "name": "stdout",
     "output_type": "stream",
     "text": [
      "Решение, полученное методом трапеци: -2.38135485379\n"
     ]
    }
   ],
   "source": [
    "print(\"Решение, полученное методом трапеци:\",res1)"
   ]
  },
  {
   "cell_type": "code",
   "execution_count": 71,
   "metadata": {
    "collapsed": true
   },
   "outputs": [],
   "source": [
    "def simpson(f, a, b, n):\n",
    "    result = 0.0\n",
    "    step = (b - a) / n\n",
    "    for x in mlab.frange(a + step / 2, b - step / 2, step):\n",
    "        result += step / 6 * (f(x - step / 2) + 4 * f(x) + f(x + step / 2))\n",
    "    return result"
   ]
  },
  {
   "cell_type": "code",
   "execution_count": 72,
   "metadata": {
    "collapsed": true
   },
   "outputs": [],
   "source": [
    "res2 = simpson(P_n,a,b,1)"
   ]
  },
  {
   "cell_type": "code",
   "execution_count": 132,
   "metadata": {},
   "outputs": [
    {
     "name": "stdout",
     "output_type": "stream",
     "text": [
      "Решене, полученное методом Симпсона: -1.44273842409\n"
     ]
    }
   ],
   "source": [
    "print(\"Решене, полученное методом Симпсона:\",res2)"
   ]
  },
  {
   "cell_type": "code",
   "execution_count": 75,
   "metadata": {},
   "outputs": [
    {
     "name": "stdout",
     "output_type": "stream",
     "text": [
      "\n",
      "Погрешность трапеций\n",
      "1.95320985379\n",
      "Погрешность Симпсона\n",
      "1.01459342409\n"
     ]
    }
   ],
   "source": [
    "print(\"\\nПогрешность трапеций\")\n",
    "print(abs(real_res-res1))\n",
    "print(\"Погрешность Симпсона\")\n",
    "print(abs(real_res-res2))"
   ]
  },
  {
   "cell_type": "markdown",
   "metadata": {},
   "source": [
    " Оценка шагов интегрирования"
   ]
  },
  {
   "cell_type": "code",
   "execution_count": 103,
   "metadata": {
    "collapsed": true
   },
   "outputs": [],
   "source": [
    "def f1(x):\n",
    "    return (7.9-0.4*x+2.7*x**2+0.7*x**3-2.4*x**4-2.7*x**5)"
   ]
  },
  {
   "cell_type": "code",
   "execution_count": 104,
   "metadata": {},
   "outputs": [
    {
     "name": "stdout",
     "output_type": "stream",
     "text": [
      "-54.0*x**3 - 28.8*x**2 + 4.2*x + 5.4\n"
     ]
    }
   ],
   "source": [
    "x = sy.symbols('x')\n",
    "print(sy.diff(f1(x), x, 2))"
   ]
  },
  {
   "cell_type": "code",
   "execution_count": 131,
   "metadata": {},
   "outputs": [
    {
     "data": {
      "image/png": "[encoded data removed]",
      "text/plain": [
       "<matplotlib.figure.Figure at 0xbcba588>"
      ]
     },
     "metadata": {},
     "output_type": "display_data"
    }
   ],
   "source": [
    "def d2f1(x):\n",
    "    return -54.0*x**3 - 28.8*x**2 + 4.2*x + 5.4\n",
    "xx=np.linspace(0,2,100)\n",
    "yy=[d2f1(i) for i in xx]\n",
    "Ox=0*xx\n",
    "fig,ax=plt.subplots()\n",
    "ax.plot(xx,yy,color=\"blue\",label=\"y1\")\n",
    "ax.plot(xx,Ox,color=\"red\",label=\"Ox\")\n",
    "ax.set_xlabel(\"x\")\n",
    "ax.set_ylabel(\"y\")\n",
    "ax.set_title(\"Plot\")\n",
    "plt.show()"
   ]
  },
  {
   "cell_type": "code",
   "execution_count": 106,
   "metadata": {},
   "outputs": [
    {
     "name": "stdout",
     "output_type": "stream",
     "text": [
      "Высота для трапеций\n",
      "-6.508543833178672e-06\n"
     ]
    }
   ],
   "source": [
    "M2=d2f1(1.44)\n",
    "hTr=((0.0001*12)/(M2*(1.44-1)))**1/2\n",
    "print(\"Высота для трапеций\")\n",
    "print(hTr)"
   ]
  },
  {
   "cell_type": "code",
   "execution_count": 107,
   "metadata": {},
   "outputs": [
    {
     "name": "stdout",
     "output_type": "stream",
     "text": [
      "-(324.0*x + 57.6)\n"
     ]
    }
   ],
   "source": [
    "x = sy.symbols('x')\n",
    "print(sy.diff(f1(x), x, 4))"
   ]
  },
  {
   "cell_type": "code",
   "execution_count": 109,
   "metadata": {
    "collapsed": true
   },
   "outputs": [],
   "source": [
    "def d4f1(x):\n",
    "    -(324.0*x + 57.6)"
   ]
  },
  {
   "cell_type": "code",
   "execution_count": 110,
   "metadata": {},
   "outputs": [
    {
     "name": "stdout",
     "output_type": "stream",
     "text": [
      "Высота для трапеций\n",
      "-0.0015620505199628813\n"
     ]
    }
   ],
   "source": [
    "M4=d4f1(1.44)\n",
    "hSim=((0.0001*2880)/(M2*(1.44-1)))**1/2\n",
    "print(\"Высота для трапеций\")\n",
    "print(hSim)"
   ]
  },
  {
   "cell_type": "code",
   "execution_count": 111,
   "metadata": {},
   "outputs": [
    {
     "name": "stdout",
     "output_type": "stream",
     "text": [
      "Кол-во шагов для трапеций\n",
      "-67603\n",
      "Кол-во шагов для Симпсона\n",
      "-282\n"
     ]
    }
   ],
   "source": [
    "nTr=round((1.44-1)/hTr)\n",
    "nSim=round((1.44-1)/hSim)\n",
    "print(\"Кол-во шагов для трапеций\")\n",
    "print(nTr)\n",
    "print(\"Кол-во шагов для Симпсона\")\n",
    "print(nSim)"
   ]
  },
  {
   "cell_type": "code",
   "execution_count": 117,
   "metadata": {},
   "outputs": [
    {
     "name": "stdout",
     "output_type": "stream",
     "text": [
      "Результат трапеций\n",
      "2.0255829678943233e-05\n",
      "\n",
      "Результат Симпсона\n",
      "0.0\n"
     ]
    }
   ],
   "source": [
    "Res1New=trapezoidal(f1,1,1.44,nTr)\n",
    "print(\"Результат трапеций\")\n",
    "print(S1New)\n",
    "Res2New=simpson(f1,1,1.44,nSim)\n",
    "print(\"\\nРезультат Симпсона\")\n",
    "print(S2New)"
   ]
  },
  {
   "cell_type": "code",
   "execution_count": 118,
   "metadata": {},
   "outputs": [
    {
     "name": "stdout",
     "output_type": "stream",
     "text": [
      "\n",
      "Погрешность трапеций\n",
      "0.42816525582967896\n",
      "Погрешность Симпсона\n",
      "0.428145\n"
     ]
    }
   ],
   "source": [
    "print(\"\\nПогрешность трапеций\")\n",
    "print(abs(real_res-Res1New))\n",
    "print(\"Погрешность Симпсона\")\n",
    "print(abs(real_res-Res2New))"
   ]
  },
  {
   "cell_type": "markdown",
   "metadata": {},
   "source": [
    "### Задача 8.3."
   ]
  },
  {
   "cell_type": "markdown",
   "metadata": {},
   "source": [
    "Вычислить значение интеграла  $\\int_a^{b} f(x),\\mathrm{d}x$  аналитически и,  используя формулу центральных прямоугольников,  с шагами $h : \\frac{b-a}{2}, \\frac{b-a}{3} ,… \\frac{b-a}{20}$ . При указанных значениях $h$  найти абсолютную погрешность  и оценки теоретической абсолютной погрешности. На одном чертеже построить графики найденных погрешностей."
   ]
  },
  {
   "cell_type": "markdown",
   "metadata": {},
   "source": [
    "#### $f(x)= x^2(sin(\\sqrt[3]{x})-3)$\n",
    "### $a = 0.5$\n",
    "### $b = 1.5$"
   ]
  },
  {
   "cell_type": "code",
   "execution_count": 94,
   "metadata": {},
   "outputs": [],
   "source": [
    "def f(x):\n",
    "    return x**2*(np.sin(x**(1/3) - 3))\n",
    "a2=0.5\n",
    "b2=1.5"
   ]
  },
  {
   "cell_type": "code",
   "execution_count": 95,
   "metadata": {},
   "outputs": [
    {
     "data": {
      "text/plain": [
       "(-0.9998497691772454, 1.110056234906726e-14)"
      ]
     },
     "execution_count": 95,
     "metadata": {},
     "output_type": "execute_result"
    }
   ],
   "source": [
    "import scipy\n",
    "from scipy import integrate\n",
    "scipy.integrate.quad(f,a2,b2)"
   ]
  },
  {
   "cell_type": "code",
   "execution_count": 96,
   "metadata": {
    "collapsed": true
   },
   "outputs": [],
   "source": [
    "res=-0.9998497691772454"
   ]
  },
  {
   "cell_type": "code",
   "execution_count": 141,
   "metadata": {
    "collapsed": true
   },
   "outputs": [],
   "source": [
    "def illustrate_func(x_range, func):\n",
    "    fig = plt.figure(figsize=(10, 6))\n",
    "    plt.plot(x_range, func(x_range))\n",
    "    plt.grid(True)"
   ]
  },
  {
   "cell_type": "code",
   "execution_count": 142,
   "metadata": {},
   "outputs": [
    {
     "data": {
      "image/png": "[encoded data removed]",
      "text/plain": [
       "<matplotlib.figure.Figure at 0xbb0d278>"
      ]
     },
     "metadata": {},
     "output_type": "display_data"
    }
   ],
   "source": [
    "illustrate_func(np.linspace(0.0, 2.0), f)"
   ]
  },
  {
   "cell_type": "code",
   "execution_count": 101,
   "metadata": {
    "collapsed": true
   },
   "outputs": [],
   "source": [
    "\"\"\" \n",
    "f - подынтегральная функция\n",
    "a, b - пределы интегрирования\n",
    "n - количество шагов \n",
    "\"\"\"\n",
    "def center_rectangles(f, a, b, n):\n",
    "    h=float((b-a)/n)\n",
    "    result = 0\n",
    "    for i in range(1, n+1):\n",
    "        result += f(a + i*h-0.5*h)\n",
    "    result *= h\n",
    "    return result"
   ]
  },
  {
   "cell_type": "code",
   "execution_count": 102,
   "metadata": {},
   "outputs": [
    {
     "name": "stdout",
     "output_type": "stream",
     "text": [
      "-0.977335552646\n",
      "-0.989855023058\n",
      "-0.994230086531\n",
      "-0.996253882755\n",
      "-0.997352895954\n",
      "-0.99801545192\n",
      "-0.998445429937\n",
      "-0.998740200318\n",
      "-0.998951037266\n",
      "-0.999107027079\n",
      "-0.999225666883\n",
      "-0.999317994608\n",
      "-0.999391252622\n",
      "-0.999450352669\n",
      "-0.999498721208\n",
      "-0.999538807516\n",
      "-0.999572399985\n",
      "-0.999600829114\n",
      "-0.999625101316\n"
     ]
    }
   ],
   "source": [
    "for i in range(2,21):\n",
    "    print(center_rectangles(f, a2, b2,i))"
   ]
  },
  {
   "cell_type": "code",
   "execution_count": 126,
   "metadata": {},
   "outputs": [],
   "source": [
    "arr1 = np.zeros(19)\n",
    "for i in range(2,21):\n",
    "    arr1[i-2] = (np.fabs(center_rectangles(f, a2, b2,i)-res))\n",
    "arr2 = np.zeros(19)\n",
    "for i in range(2,21):\n",
    "    arr2[i-2] = (i)\n",
    "arr3=np.zeros(19)\n",
    "for i in range(2,21):\n",
    "    arr3[i-2] = (M2*(b2-a2)*((b2-a2)/i)**2/24)"
   ]
  },
  {
   "cell_type": "code",
   "execution_count": 129,
   "metadata": {},
   "outputs": [
    {
     "data": {
      "text/plain": [
       "[<matplotlib.lines.Line2D at 0xbbfa518>]"
      ]
     },
     "execution_count": 129,
     "metadata": {},
     "output_type": "execute_result"
    },
    {
     "data": {
      "image/png": "[encoded data removed]",
      "text/plain": [
       "<matplotlib.figure.Figure at 0xbbfa3c8>"
      ]
     },
     "metadata": {},
     "output_type": "display_data"
    }
   ],
   "source": [
    "plt.plot(arr2,arr1,color='r')\n",
    "plt.plot(arr2,arr3,color='b')"
   ]
  },
  {
   "cell_type": "code",
   "execution_count": 130,
   "metadata": {},
   "outputs": [
    {
     "data": {
      "text/plain": [
       "(-0.9998497691772454, 1.110056234906726e-14)"
      ]
     },
     "execution_count": 130,
     "metadata": {},
     "output_type": "execute_result"
    }
   ],
   "source": [
    "scipy.integrate.quad(f,a2,b2)"
   ]
  }
 ],
 "metadata": {
  "kernelspec": {
   "display_name": "Python 3",
   "language": "python",
   "name": "python3"
  },
  "language_info": {
   "codemirror_mode": {
    "name": "ipython",
    "version": 3
   },
   "file_extension": ".py",
   "mimetype": "text/x-python",
   "name": "python",
   "nbconvert_exporter": "python",
   "pygments_lexer": "ipython3",
   "version": "3.6.3"
  }
 },
 "nbformat": 4,
 "nbformat_minor": 2
}
